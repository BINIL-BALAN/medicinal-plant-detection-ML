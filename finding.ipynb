{
 "cells": [
  {
   "cell_type": "code",
   "execution_count": 1,
   "metadata": {},
   "outputs": [],
   "source": [
    "import tensorflow as tf\n",
    "from tensorflow import keras\n",
    "import tensorflow_hub as hub\n",
    "from tensorflow.keras.preprocessing import image\n",
    "import numpy as np"
   ]
  },
  {
   "cell_type": "code",
   "execution_count": 2,
   "metadata": {},
   "outputs": [],
   "source": [
    "custom_objects = {\n",
    "    'KerasLayer': hub.KerasLayer\n",
    "}"
   ]
  },
  {
   "cell_type": "code",
   "execution_count": 3,
   "metadata": {},
   "outputs": [
    {
     "name": "stdout",
     "output_type": "stream",
     "text": [
      "<keras.src.engine.sequential.Sequential object at 0x0000027210DD14D0>\n"
     ]
    }
   ],
   "source": [
    "model = tf.keras.models.load_model('./my_model.h5', custom_objects=custom_objects)\n",
    "print(model)"
   ]
  },
  {
   "cell_type": "code",
   "execution_count": 4,
   "metadata": {},
   "outputs": [
    {
     "name": "stdout",
     "output_type": "stream",
     "text": [
      "Found 2950 images belonging to 40 classes.\n"
     ]
    }
   ],
   "source": [
    "datagen_kwargs = dict(rescale=1./255, validation_split=.80)\n",
    "valid_datagen = tf.keras.preprocessing.image.ImageDataGenerator(**datagen_kwargs)\n",
    "valid_generator = valid_datagen.flow_from_directory(\n",
    "'../../test dataset/',\n",
    "subset=\"validation\",\n",
    "shuffle=True,\n",
    "target_size=(224,224)\n",
    ")"
   ]
  },
  {
   "cell_type": "code",
   "execution_count": 5,
   "metadata": {},
   "outputs": [],
   "source": [
    "from tensorflow.keras.preprocessing.image import load_img, img_to_array\n",
    "from PIL import Image"
   ]
  },
  {
   "cell_type": "code",
   "execution_count": 6,
   "metadata": {},
   "outputs": [],
   "source": [
    "image_path = 'image.jpg'\n",
    "\n",
    "# Load the image and preprocess it\n",
    "# image = load_img(image_path, target_size=(224, 224))\n",
    "image = Image.open(image_path)\n",
    "image = image.resize((224, 224))\n",
    "image = img_to_array(image)\n",
    "image = image / 255.0  # Normalize the pixel values to be between 0 and 1\n",
    "image = image.reshape((1, 224, 224, 3)) "
   ]
  },
  {
   "cell_type": "code",
   "execution_count": 7,
   "metadata": {},
   "outputs": [
    {
     "name": "stdout",
     "output_type": "stream",
     "text": [
      "1/1 [==============================] - 1s 1s/step\n",
      "[[1.1888111e-07 4.2452286e-10 5.1787142e-06 9.9923730e-01 8.6368251e-10\n",
      "  5.0211343e-06 9.4974153e-09 5.1829282e-08 6.1214394e-09 4.7328431e-06\n",
      "  5.5878313e-10 1.3264120e-09 3.0889190e-05 4.6463255e-09 6.8017102e-06\n",
      "  2.0382464e-05 1.5843041e-07 2.0270962e-05 3.2823191e-05 8.4162171e-09\n",
      "  2.5689550e-10 4.8544034e-06 7.7903351e-06 2.7648386e-09 4.8374261e-07\n",
      "  1.7701836e-07 2.5347338e-10 1.6746111e-06 1.9669326e-08 1.6054545e-09\n",
      "  1.0591076e-07 1.8261688e-06 3.0120628e-07 1.7909525e-09 3.8651834e-04\n",
      "  1.4274960e-09 7.6133969e-05 2.7041574e-07 3.1774802e-10 1.5617370e-04]]\n"
     ]
    }
   ],
   "source": [
    "predictions = model.predict(image)\n",
    "print(predictions)"
   ]
  },
  {
   "cell_type": "code",
   "execution_count": 8,
   "metadata": {},
   "outputs": [
    {
     "name": "stdout",
     "output_type": "stream",
     "text": [
      "Arali\n"
     ]
    }
   ],
   "source": [
    "predicted_class_index = np.argmax(predictions, axis=1)\n",
    "with open('labels.txt', 'r') as f:\n",
    "    labels = f.read().split('\\n')\n",
    "predicted_class_name = labels[predicted_class_index[0]]\n",
    "print(predicted_class_name)"
   ]
  }
 ],
 "metadata": {
  "kernelspec": {
   "display_name": "Python 3",
   "language": "python",
   "name": "python3"
  },
  "language_info": {
   "codemirror_mode": {
    "name": "ipython",
    "version": 3
   },
   "file_extension": ".py",
   "mimetype": "text/x-python",
   "name": "python",
   "nbconvert_exporter": "python",
   "pygments_lexer": "ipython3",
   "version": "3.11.0"
  },
  "orig_nbformat": 4
 },
 "nbformat": 4,
 "nbformat_minor": 2
}
