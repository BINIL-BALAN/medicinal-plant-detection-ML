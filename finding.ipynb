{
 "cells": [
  {
   "cell_type": "code",
   "execution_count": 4,
   "metadata": {},
   "outputs": [],
   "source": [
    "import tensorflow as tf\n",
    "from tensorflow import keras\n",
    "import tensorflow_hub as hub\n",
    "from tensorflow.keras.preprocessing import image\n",
    "import numpy as np"
   ]
  },
  {
   "cell_type": "code",
   "execution_count": 5,
   "metadata": {},
   "outputs": [],
   "source": [
    "custom_objects = {\n",
    "    'KerasLayer': hub.KerasLayer\n",
    "}"
   ]
  },
  {
   "cell_type": "code",
   "execution_count": 26,
   "metadata": {},
   "outputs": [
    {
     "name": "stdout",
     "output_type": "stream",
     "text": [
      "<keras.src.engine.sequential.Sequential object at 0x000001C683E64850>\n"
     ]
    }
   ],
   "source": [
    "model = tf.keras.models.load_model('./my_model.h5', custom_objects=custom_objects)\n",
    "print(model)"
   ]
  },
  {
   "cell_type": "code",
   "execution_count": 27,
   "metadata": {},
   "outputs": [
    {
     "name": "stdout",
     "output_type": "stream",
     "text": [
      "Found 2950 images belonging to 40 classes.\n"
     ]
    }
   ],
   "source": [
    "datagen_kwargs = dict(rescale=1./255, validation_split=.80)\n",
    "valid_datagen = tf.keras.preprocessing.image.ImageDataGenerator(**datagen_kwargs)\n",
    "valid_generator = valid_datagen.flow_from_directory(\n",
    "'./test dataset/',\n",
    "subset=\"validation\",\n",
    "shuffle=True,\n",
    "target_size=(224,224)\n",
    ")"
   ]
  },
  {
   "cell_type": "code",
   "execution_count": 45,
   "metadata": {},
   "outputs": [],
   "source": [
    "from tensorflow.keras.preprocessing.image import load_img, img_to_array"
   ]
  },
  {
   "cell_type": "code",
   "execution_count": 60,
   "metadata": {},
   "outputs": [],
   "source": [
    "image_path = 'images.jpg'\n",
    "\n",
    "# Load the image and preprocess it\n",
    "image = load_img(image_path, target_size=(224, 224))\n",
    "image = img_to_array(image)\n",
    "image = image / 255.0  # Normalize the pixel values to be between 0 and 1\n",
    "image = image.reshape((1, 224, 224, 3)) "
   ]
  },
  {
   "cell_type": "code",
   "execution_count": 61,
   "metadata": {},
   "outputs": [
    {
     "name": "stdout",
     "output_type": "stream",
     "text": [
      "1/1 [==============================] - 0s 64ms/step\n",
      "[[2.67155701e-03 3.39196049e-05 2.47789617e-03 3.91324029e-05\n",
      "  1.07780842e-08 1.15963390e-04 9.18972364e-06 3.07247933e-06\n",
      "  2.14913563e-08 8.18523020e-03 2.49472284e-03 1.38363857e-05\n",
      "  1.59732990e-05 7.94008136e-01 1.04930939e-03 1.45203767e-05\n",
      "  6.77329308e-06 1.70046878e-05 3.72734917e-06 8.99915520e-08\n",
      "  3.62600142e-04 2.38979010e-05 1.86315164e-01 2.05609624e-07\n",
      "  8.54600239e-06 7.73660069e-09 5.02245960e-08 2.77679817e-07\n",
      "  8.35691662e-06 1.03248085e-05 7.64310607e-05 1.88374508e-03\n",
      "  1.39092910e-04 3.25535188e-06 2.44367925e-06 1.34746233e-06\n",
      "  3.11500003e-06 9.55448254e-09 8.81670530e-07 1.54822203e-07]]\n"
     ]
    }
   ],
   "source": [
    "predictions = model.predict(image)\n",
    "print(predictions)"
   ]
  },
  {
   "cell_type": "code",
   "execution_count": 63,
   "metadata": {},
   "outputs": [
    {
     "name": "stdout",
     "output_type": "stream",
     "text": [
      "Castor\n"
     ]
    }
   ],
   "source": [
    "predicted_class_index = np.argmax(predictions, axis=1)\n",
    "with open('labels.txt', 'r') as f:\n",
    "    labels = f.read().split('\\n')\n",
    "predicted_class_name = labels[predicted_class_index[0]]\n",
    "print(predicted_class_name)"
   ]
  }
 ],
 "metadata": {
  "kernelspec": {
   "display_name": "Python 3",
   "language": "python",
   "name": "python3"
  },
  "language_info": {
   "codemirror_mode": {
    "name": "ipython",
    "version": 3
   },
   "file_extension": ".py",
   "mimetype": "text/x-python",
   "name": "python",
   "nbconvert_exporter": "python",
   "pygments_lexer": "ipython3",
   "version": "3.11.5"
  },
  "orig_nbformat": 4
 },
 "nbformat": 4,
 "nbformat_minor": 2
}
