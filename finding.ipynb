{
 "cells": [
  {
   "cell_type": "code",
   "execution_count": 1,
   "metadata": {},
   "outputs": [],
   "source": [
    "import tensorflow as tf\n",
    "from tensorflow import keras\n",
    "import tensorflow_hub as hub\n",
    "from tensorflow.keras.preprocessing import image\n",
    "import numpy as np"
   ]
  },
  {
   "cell_type": "code",
   "execution_count": 2,
   "metadata": {},
   "outputs": [],
   "source": [
    "custom_objects = {\n",
    "    'KerasLayer': hub.KerasLayer\n",
    "}"
   ]
  },
  {
   "cell_type": "code",
   "execution_count": 3,
   "metadata": {},
   "outputs": [
    {
     "name": "stdout",
     "output_type": "stream",
     "text": [
      "<keras.src.engine.sequential.Sequential object at 0x00000277AFEBA7D0>\n"
     ]
    }
   ],
   "source": [
    "model = tf.keras.models.load_model('./my_model.h5', custom_objects=custom_objects)\n",
    "print(model)"
   ]
  },
  {
   "cell_type": "code",
   "execution_count": 4,
   "metadata": {},
   "outputs": [
    {
     "name": "stdout",
     "output_type": "stream",
     "text": [
      "Found 3990 images belonging to 41 classes.\n"
     ]
    }
   ],
   "source": [
    "datagen_kwargs = dict(rescale=1./255, validation_split=.80)\n",
    "valid_datagen = tf.keras.preprocessing.image.ImageDataGenerator(**datagen_kwargs)\n",
    "valid_generator = valid_datagen.flow_from_directory(\n",
    "'D:/project/server/datasets/test dataset latest',\n",
    "subset=\"validation\",\n",
    "shuffle=True,\n",
    "target_size=(224,224)\n",
    ")"
   ]
  },
  {
   "cell_type": "code",
   "execution_count": 6,
   "metadata": {},
   "outputs": [],
   "source": [
    "from tensorflow.keras.preprocessing.image import load_img, img_to_array\n",
    "from PIL import Image"
   ]
  },
  {
   "cell_type": "code",
   "execution_count": 16,
   "metadata": {},
   "outputs": [],
   "source": [
    "image_path = 'img.jpg'\n",
    "\n",
    "# Load the image and preprocess it\n",
    "# image = load_img(image_path, target_size=(224, 224))\n",
    "image = Image.open(image_path)\n",
    "image = image.resize((224, 224))\n",
    "image = img_to_array(image)\n",
    "image = image / 255.0  # Normalize the pixel values to be between 0 and 1\n",
    "image = image.reshape((1, 224, 224, 3)) "
   ]
  },
  {
   "cell_type": "code",
   "execution_count": 17,
   "metadata": {},
   "outputs": [
    {
     "name": "stdout",
     "output_type": "stream",
     "text": [
      "1/1 [==============================] - 0s 68ms/step\n",
      "[[1.1270222e-06 4.7612639e-06 5.3049485e-09 1.7328287e-09 1.8993387e-06\n",
      "  8.6973170e-03 4.2070107e-07 2.6257871e-07 3.1099419e-06 3.6456564e-01\n",
      "  6.8578566e-11 8.0397982e-09 1.4605415e-01 1.4865054e-11 1.6495927e-05\n",
      "  1.2710962e-05 5.5916982e-05 1.8090212e-04 4.5145148e-01 4.3637836e-12\n",
      "  1.2463272e-10 9.2065129e-06 1.1876160e-06 9.4225605e-09 1.5371151e-06\n",
      "  3.6230088e-07 1.7275946e-09 1.6644597e-07 4.6481669e-06 2.3568032e-06\n",
      "  2.3591845e-06 4.8556851e-04 6.4797590e-08 2.4136828e-06 2.3599634e-02\n",
      "  1.3435626e-08 4.9909943e-04 9.7898208e-04 3.3661097e-03 3.5330977e-08\n",
      "  1.0301068e-10]]\n"
     ]
    }
   ],
   "source": [
    "predictions = model.predict(image)\n",
    "print(predictions)"
   ]
  },
  {
   "cell_type": "code",
   "execution_count": 18,
   "metadata": {},
   "outputs": [
    {
     "name": "stdout",
     "output_type": "stream",
     "text": [
      "Coffee\n"
     ]
    }
   ],
   "source": [
    "predicted_class_index = np.argmax(predictions, axis=1)\n",
    "with open('labels.txt', 'r') as f:\n",
    "    labels = f.read().split('\\n')\n",
    "predicted_class_name = labels[predicted_class_index[0]]\n",
    "print(predicted_class_name)"
   ]
  }
 ],
 "metadata": {
  "kernelspec": {
   "display_name": "Python 3",
   "language": "python",
   "name": "python3"
  },
  "language_info": {
   "codemirror_mode": {
    "name": "ipython",
    "version": 3
   },
   "file_extension": ".py",
   "mimetype": "text/x-python",
   "name": "python",
   "nbconvert_exporter": "python",
   "pygments_lexer": "ipython3",
   "version": "3.11.0"
  },
  "orig_nbformat": 4
 },
 "nbformat": 4,
 "nbformat_minor": 2
}
